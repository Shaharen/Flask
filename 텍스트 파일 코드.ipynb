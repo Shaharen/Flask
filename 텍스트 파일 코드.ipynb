{
 "cells": [
  {
   "cell_type": "code",
   "execution_count": 3,
   "id": "f0d7da8a",
   "metadata": {},
   "outputs": [],
   "source": [
    "f = open(\"D:/yolo/test.txt\" , 'r' , encoding = 'UTF8')\n",
    "line = f.readlines()"
   ]
  },
  {
   "cell_type": "code",
   "execution_count": 4,
   "id": "7334b6b1",
   "metadata": {},
   "outputs": [
    {
     "data": {
      "text/plain": [
       "['1 0.118354 0.154612616 0.46452616 0.48921966\\n',\n",
       " '0 864 156 456 45648 156 89 1563 1896 612\\n',\n",
       " '0 4869156 4894 64651 48913 15 616 521616\\n',\n",
       " '1 48923 49423.746 1691695 6964921 96412']"
      ]
     },
     "execution_count": 4,
     "metadata": {},
     "output_type": "execute_result"
    }
   ],
   "source": [
    "line"
   ]
  },
  {
   "cell_type": "code",
   "execution_count": 9,
   "id": "3540d9f5",
   "metadata": {},
   "outputs": [
    {
     "data": {
      "text/plain": [
       "'1'"
      ]
     },
     "execution_count": 9,
     "metadata": {},
     "output_type": "execute_result"
    }
   ],
   "source": [
    "line[0][0]"
   ]
  },
  {
   "cell_type": "code",
   "execution_count": 10,
   "id": "b21b5b3d",
   "metadata": {},
   "outputs": [
    {
     "data": {
      "text/plain": [
       "'0'"
      ]
     },
     "execution_count": 10,
     "metadata": {},
     "output_type": "execute_result"
    }
   ],
   "source": [
    "line[1][0]"
   ]
  },
  {
   "cell_type": "code",
   "execution_count": 11,
   "id": "3e2d3f6f",
   "metadata": {},
   "outputs": [],
   "source": [
    "sort = []\n",
    "for i in range(len(line)) :\n",
    "    sort.append(line[i][0])"
   ]
  },
  {
   "cell_type": "code",
   "execution_count": 12,
   "id": "bceea143",
   "metadata": {},
   "outputs": [
    {
     "data": {
      "text/plain": [
       "['1', '0', '0', '1']"
      ]
     },
     "execution_count": 12,
     "metadata": {},
     "output_type": "execute_result"
    }
   ],
   "source": [
    "sort"
   ]
  },
  {
   "cell_type": "code",
   "execution_count": 16,
   "id": "0698d396",
   "metadata": {},
   "outputs": [
    {
     "data": {
      "text/plain": [
       "2"
      ]
     },
     "execution_count": 16,
     "metadata": {},
     "output_type": "execute_result"
    }
   ],
   "source": [
    "sort.count('1')"
   ]
  },
  {
   "cell_type": "code",
   "execution_count": 19,
   "id": "966425a2",
   "metadata": {},
   "outputs": [],
   "source": [
    "f.close()"
   ]
  },
  {
   "cell_type": "code",
   "execution_count": 17,
   "id": "6ebc79eb",
   "metadata": {},
   "outputs": [
    {
     "ename": "OSError",
     "evalue": "[Errno 22] Invalid argument: 'D:/yolo/*.txt'",
     "output_type": "error",
     "traceback": [
      "\u001b[1;31m---------------------------------------------------------------------------\u001b[0m",
      "\u001b[1;31mOSError\u001b[0m                                   Traceback (most recent call last)",
      "\u001b[1;32m~\\AppData\\Local\\Temp/ipykernel_12576/3030041313.py\u001b[0m in \u001b[0;36m<module>\u001b[1;34m\u001b[0m\n\u001b[1;32m----> 1\u001b[1;33m \u001b[0mf\u001b[0m \u001b[1;33m=\u001b[0m \u001b[0mopen\u001b[0m\u001b[1;33m(\u001b[0m\u001b[1;34m\"D:/yolo/*.txt\"\u001b[0m \u001b[1;33m,\u001b[0m \u001b[1;34m'r'\u001b[0m \u001b[1;33m,\u001b[0m \u001b[0mencoding\u001b[0m \u001b[1;33m=\u001b[0m \u001b[1;34m'UTF8'\u001b[0m\u001b[1;33m)\u001b[0m\u001b[1;33m\u001b[0m\u001b[1;33m\u001b[0m\u001b[0m\n\u001b[0m\u001b[0;32m      2\u001b[0m \u001b[0mline\u001b[0m \u001b[1;33m=\u001b[0m \u001b[0mf\u001b[0m\u001b[1;33m.\u001b[0m\u001b[0mreadlines\u001b[0m\u001b[1;33m(\u001b[0m\u001b[1;33m)\u001b[0m\u001b[1;33m\u001b[0m\u001b[1;33m\u001b[0m\u001b[0m\n\u001b[0;32m      3\u001b[0m \u001b[0msort\u001b[0m \u001b[1;33m=\u001b[0m \u001b[1;33m[\u001b[0m\u001b[1;33m]\u001b[0m\u001b[1;33m\u001b[0m\u001b[1;33m\u001b[0m\u001b[0m\n\u001b[0;32m      4\u001b[0m \u001b[1;32mfor\u001b[0m \u001b[0mi\u001b[0m \u001b[1;32min\u001b[0m \u001b[0mrange\u001b[0m\u001b[1;33m(\u001b[0m\u001b[0mlen\u001b[0m\u001b[1;33m(\u001b[0m\u001b[0mline\u001b[0m\u001b[1;33m)\u001b[0m\u001b[1;33m)\u001b[0m \u001b[1;33m:\u001b[0m\u001b[1;33m\u001b[0m\u001b[1;33m\u001b[0m\u001b[0m\n\u001b[0;32m      5\u001b[0m     \u001b[0msort\u001b[0m\u001b[1;33m.\u001b[0m\u001b[0mappend\u001b[0m\u001b[1;33m(\u001b[0m\u001b[0mline\u001b[0m\u001b[1;33m[\u001b[0m\u001b[0mi\u001b[0m\u001b[1;33m]\u001b[0m\u001b[1;33m[\u001b[0m\u001b[1;36m0\u001b[0m\u001b[1;33m]\u001b[0m\u001b[1;33m)\u001b[0m\u001b[1;33m\u001b[0m\u001b[1;33m\u001b[0m\u001b[0m\n",
      "\u001b[1;31mOSError\u001b[0m: [Errno 22] Invalid argument: 'D:/yolo/*.txt'"
     ]
    }
   ],
   "source": [
    "f = open(\"D:/yolo/.txt\" , 'r' , encoding = 'UTF8')\n",
    "line = f.readlines()\n",
    "sort = []\n",
    "for i in range(len(line)) :\n",
    "    sort.append(line[i][0])"
   ]
  },
  {
   "cell_type": "code",
   "execution_count": null,
   "id": "50df44a4",
   "metadata": {},
   "outputs": [],
   "source": [
    "sort.count('1')"
   ]
  },
  {
   "cell_type": "markdown",
   "id": "8b28a2be",
   "metadata": {},
   "source": [
    "# 텍스트 파일 여러개 읽어서 결과 도출"
   ]
  },
  {
   "cell_type": "code",
   "execution_count": 2,
   "id": "6fdbdf87",
   "metadata": {},
   "outputs": [],
   "source": [
    "import os\n",
    "import glob\n",
    "import pandas as pd"
   ]
  },
  {
   "cell_type": "code",
   "execution_count": 2,
   "id": "f09ac172",
   "metadata": {},
   "outputs": [],
   "source": [
    "os.chdir(r\"D:/yolo\")"
   ]
  },
  {
   "cell_type": "code",
   "execution_count": 3,
   "id": "1e2eb13a",
   "metadata": {},
   "outputs": [],
   "source": [
    "filenames = [ i for i in glob.glob(\"*.txt\")]"
   ]
  },
  {
   "cell_type": "code",
   "execution_count": 4,
   "id": "b9a37577",
   "metadata": {},
   "outputs": [
    {
     "data": {
      "text/plain": [
       "['test.txt',\n",
       " 'V006_79_1_15_07_03_12_1_2656z_20201104_19.txt',\n",
       " 'V006_79_1_15_07_03_12_1_2656z_20201104_37.txt',\n",
       " 'V006_79_1_15_07_03_12_1_2656z_20201105_38.txt']"
      ]
     },
     "execution_count": 4,
     "metadata": {},
     "output_type": "execute_result"
    }
   ],
   "source": [
    "filenames"
   ]
  },
  {
   "cell_type": "code",
   "execution_count": 5,
   "id": "e356a259",
   "metadata": {},
   "outputs": [],
   "source": [
    "f = open(\"D:/yolo/%s\"  %filenames[1], 'r' , encoding = 'UTF8')\n",
    "line = f.readlines()\n",
    "sort = []\n",
    "for i in range(len(line)) :\n",
    "    sort.append(line[i][0])"
   ]
  },
  {
   "cell_type": "code",
   "execution_count": 6,
   "id": "fae8480f",
   "metadata": {
    "collapsed": true
   },
   "outputs": [
    {
     "data": {
      "text/plain": [
       "['1',\n",
       " '1',\n",
       " '1',\n",
       " '1',\n",
       " '1',\n",
       " '0',\n",
       " '1',\n",
       " '1',\n",
       " '1',\n",
       " '1',\n",
       " '1',\n",
       " '0',\n",
       " '1',\n",
       " '1',\n",
       " '1',\n",
       " '1',\n",
       " '1',\n",
       " '1',\n",
       " '1',\n",
       " '1',\n",
       " '1',\n",
       " '0',\n",
       " '1',\n",
       " '1',\n",
       " '1',\n",
       " '0',\n",
       " '1',\n",
       " '1',\n",
       " '1',\n",
       " '0',\n",
       " '1',\n",
       " '1']"
      ]
     },
     "execution_count": 6,
     "metadata": {},
     "output_type": "execute_result"
    }
   ],
   "source": [
    "sort"
   ]
  },
  {
   "cell_type": "code",
   "execution_count": 34,
   "id": "a380c187",
   "metadata": {},
   "outputs": [
    {
     "data": {
      "text/plain": [
       "5"
      ]
     },
     "execution_count": 34,
     "metadata": {},
     "output_type": "execute_result"
    }
   ],
   "source": [
    "sort.count('0')"
   ]
  },
  {
   "cell_type": "markdown",
   "id": "33927b17",
   "metadata": {},
   "source": [
    "# 텍스트파일 전체 결과"
   ]
  },
  {
   "cell_type": "code",
   "execution_count": 3,
   "id": "f607aff2",
   "metadata": {},
   "outputs": [],
   "source": [
    "# 디렉토리 접근\n",
    "os.chdir(r\"D:/yolo\")\n",
    "filenames = [ i for i in glob.glob(\"*.txt\")]\n",
    "sort = []\n",
    "\n",
    "for i in range(len(filenames)) :\n",
    "    # 파일 한개씩 열어서 한줄씩 리스트 형태로\n",
    "    f = open(\"D:/yolo/%s\"  %filenames[i], 'r' , encoding = 'UTF8')\n",
    "    line = f.readlines()\n",
    "    \n",
    "    # 분류에 필요한 0 , 1 추출\n",
    "    for i in range(len(line)) :\n",
    "        sort.append(line[i][0])"
   ]
  },
  {
   "cell_type": "code",
   "execution_count": 4,
   "id": "3e159e61",
   "metadata": {},
   "outputs": [
    {
     "data": {
      "text/plain": [
       "8"
      ]
     },
     "execution_count": 4,
     "metadata": {},
     "output_type": "execute_result"
    }
   ],
   "source": [
    "sort.count('0')"
   ]
  },
  {
   "cell_type": "code",
   "execution_count": 5,
   "id": "4b579f72",
   "metadata": {},
   "outputs": [
    {
     "data": {
      "text/plain": [
       "73"
      ]
     },
     "execution_count": 5,
     "metadata": {},
     "output_type": "execute_result"
    }
   ],
   "source": [
    "sort.count('1')"
   ]
  },
  {
   "cell_type": "code",
   "execution_count": 6,
   "id": "288d360f",
   "metadata": {},
   "outputs": [],
   "source": [
    "column = [ 0 , 1 , 2 ]\n",
    "result = [ sort.count('0') , sort.count('1') , sort.count('2')]\n",
    "data = { '0' : sort.count('0') , '1' : sort.count('1') , '2' : sort.count('2') }\n",
    "index  = ['검출 수']"
   ]
  },
  {
   "cell_type": "code",
   "execution_count": 7,
   "id": "f5567920",
   "metadata": {},
   "outputs": [
    {
     "data": {
      "text/html": [
       "<div>\n",
       "<style scoped>\n",
       "    .dataframe tbody tr th:only-of-type {\n",
       "        vertical-align: middle;\n",
       "    }\n",
       "\n",
       "    .dataframe tbody tr th {\n",
       "        vertical-align: top;\n",
       "    }\n",
       "\n",
       "    .dataframe thead th {\n",
       "        text-align: right;\n",
       "    }\n",
       "</style>\n",
       "<table border=\"1\" class=\"dataframe\">\n",
       "  <thead>\n",
       "    <tr style=\"text-align: right;\">\n",
       "      <th></th>\n",
       "      <th>0</th>\n",
       "      <th>1</th>\n",
       "      <th>2</th>\n",
       "    </tr>\n",
       "  </thead>\n",
       "  <tbody>\n",
       "    <tr>\n",
       "      <th>검출 수</th>\n",
       "      <td>8</td>\n",
       "      <td>73</td>\n",
       "      <td>1</td>\n",
       "    </tr>\n",
       "  </tbody>\n",
       "</table>\n",
       "</div>"
      ],
      "text/plain": [
       "      0   1  2\n",
       "검출 수  8  73  1"
      ]
     },
     "execution_count": 7,
     "metadata": {},
     "output_type": "execute_result"
    }
   ],
   "source": [
    "df = pd.DataFrame(data, index = index )\n",
    "df"
   ]
  }
 ],
 "metadata": {
  "kernelspec": {
   "display_name": "Python 3 (ipykernel)",
   "language": "python",
   "name": "python3"
  },
  "language_info": {
   "codemirror_mode": {
    "name": "ipython",
    "version": 3
   },
   "file_extension": ".py",
   "mimetype": "text/x-python",
   "name": "python",
   "nbconvert_exporter": "python",
   "pygments_lexer": "ipython3",
   "version": "3.8.13"
  },
  "toc": {
   "base_numbering": 1,
   "nav_menu": {},
   "number_sections": true,
   "sideBar": true,
   "skip_h1_title": false,
   "title_cell": "Table of Contents",
   "title_sidebar": "Contents",
   "toc_cell": false,
   "toc_position": {},
   "toc_section_display": true,
   "toc_window_display": false
  }
 },
 "nbformat": 4,
 "nbformat_minor": 5
}
