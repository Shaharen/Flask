{
 "cells": [
  {
   "cell_type": "code",
   "execution_count": 1,
   "id": "fe31b207",
   "metadata": {},
   "outputs": [
    {
     "name": "stderr",
     "output_type": "stream",
     "text": [
      "Cloning into 'YOLOv5-Flask'...\n"
     ]
    }
   ],
   "source": [
    "!git clone https://github.com/ViAsmit/YOLOv5-Flask.git"
   ]
  },
  {
   "cell_type": "code",
   "execution_count": 1,
   "id": "76e96671",
   "metadata": {},
   "outputs": [
    {
     "name": "stdout",
     "output_type": "stream",
     "text": [
      "C:\\Users\\smhrd\\yolov5-flask\\yolov5-flask\n"
     ]
    }
   ],
   "source": [
    "cd yolov5-flask"
   ]
  },
  {
   "cell_type": "code",
   "execution_count": 3,
   "id": "f34f4b25",
   "metadata": {
    "collapsed": true
   },
   "outputs": [
    {
     "name": "stdout",
     "output_type": "stream",
     "text": [
      "Looking in links: https://download.pytorch.org/whl/torch_stable.html\n",
      "Collecting absl-py==0.13.0\n",
      "  Downloading absl_py-0.13.0-py3-none-any.whl (132 kB)\n",
      "Collecting cachetools==4.2.2\n",
      "  Downloading cachetools-4.2.2-py3-none-any.whl (11 kB)\n",
      "Collecting certifi==2021.5.30\n",
      "  Downloading certifi-2021.5.30-py2.py3-none-any.whl (145 kB)\n",
      "Collecting charset-normalizer==2.0.4\n",
      "  Downloading charset_normalizer-2.0.4-py3-none-any.whl (36 kB)\n",
      "Collecting click==8.0.1\n",
      "  Downloading click-8.0.1-py3-none-any.whl (97 kB)\n",
      "Collecting cycler==0.10.0\n",
      "  Downloading cycler-0.10.0-py2.py3-none-any.whl (6.5 kB)\n",
      "Collecting Flask==2.0.1\n",
      "  Downloading Flask-2.0.1-py3-none-any.whl (94 kB)\n",
      "Collecting google-auth==1.34.0\n",
      "  Downloading google_auth-1.34.0-py2.py3-none-any.whl (152 kB)\n",
      "Collecting google-auth-oauthlib==0.4.5\n",
      "  Downloading google_auth_oauthlib-0.4.5-py2.py3-none-any.whl (18 kB)\n",
      "Collecting grpcio==1.39.0\n",
      "  Downloading grpcio-1.39.0-cp37-cp37m-win_amd64.whl (3.2 MB)\n",
      "Collecting gunicorn==20.1.0\n",
      "  Downloading gunicorn-20.1.0-py3-none-any.whl (79 kB)\n",
      "Collecting idna==3.2\n",
      "  Downloading idna-3.2-py3-none-any.whl (59 kB)\n",
      "Collecting itsdangerous==2.0.1\n",
      "  Downloading itsdangerous-2.0.1-py3-none-any.whl (18 kB)\n",
      "Collecting Jinja2==3.0.1\n",
      "  Downloading Jinja2-3.0.1-py3-none-any.whl (133 kB)\n",
      "Collecting kiwisolver==1.3.1\n",
      "  Downloading kiwisolver-1.3.1-cp37-cp37m-win_amd64.whl (51 kB)\n",
      "Collecting Markdown==3.3.4\n",
      "  Downloading Markdown-3.3.4-py3-none-any.whl (97 kB)\n",
      "Requirement already satisfied: MarkupSafe==2.0.1 in c:\\users\\smhrd\\anaconda3\\envs\\yolo_flask\\lib\\site-packages (from -r requirements.txt (line 17)) (2.0.1)\n",
      "Collecting matplotlib==3.4.2\n",
      "  Downloading matplotlib-3.4.2-cp37-cp37m-win_amd64.whl (7.1 MB)\n",
      "Collecting numpy==1.21.1\n",
      "  Downloading numpy-1.21.1-cp37-cp37m-win_amd64.whl (14.0 MB)\n",
      "Collecting oauthlib==3.1.1\n",
      "  Downloading oauthlib-3.1.1-py2.py3-none-any.whl (146 kB)\n",
      "Collecting opencv-python==4.5.3.56\n",
      "  Downloading opencv_python-4.5.3.56-cp37-cp37m-win_amd64.whl (34.9 MB)\n",
      "Collecting pandas==1.3.1\n",
      "  Downloading pandas-1.3.1-cp37-cp37m-win_amd64.whl (10.1 MB)\n",
      "Collecting Pillow==8.3.1\n",
      "  Downloading Pillow-8.3.1-1-cp37-cp37m-win_amd64.whl (3.2 MB)\n",
      "Collecting protobuf==3.17.3\n",
      "  Downloading protobuf-3.17.3-cp37-cp37m-win_amd64.whl (909 kB)\n",
      "Collecting pyasn1==0.4.8\n",
      "  Using cached pyasn1-0.4.8-py2.py3-none-any.whl (77 kB)\n",
      "Collecting pyasn1-modules==0.2.8\n",
      "  Using cached pyasn1_modules-0.2.8-py2.py3-none-any.whl (155 kB)\n",
      "Collecting pyparsing==2.4.7\n",
      "  Downloading pyparsing-2.4.7-py2.py3-none-any.whl (67 kB)\n",
      "Requirement already satisfied: python-dateutil==2.8.2 in c:\\users\\smhrd\\anaconda3\\envs\\yolo_flask\\lib\\site-packages (from -r requirements.txt (line 28)) (2.8.2)\n",
      "Collecting pytz==2021.1\n",
      "  Downloading pytz-2021.1-py2.py3-none-any.whl (510 kB)\n",
      "Collecting PyYAML==5.4.1\n",
      "  Downloading PyYAML-5.4.1-cp37-cp37m-win_amd64.whl (210 kB)\n",
      "Collecting requests==2.26.0\n",
      "  Downloading requests-2.26.0-py2.py3-none-any.whl (62 kB)\n",
      "Collecting requests-oauthlib==1.3.0\n",
      "  Downloading requests_oauthlib-1.3.0-py2.py3-none-any.whl (23 kB)\n",
      "Collecting rsa==4.7.2\n",
      "  Downloading rsa-4.7.2-py3-none-any.whl (34 kB)\n",
      "Collecting scipy==1.7.1\n",
      "  Downloading scipy-1.7.1-cp37-cp37m-win_amd64.whl (33.6 MB)\n",
      "Collecting seaborn==0.11.1\n",
      "  Downloading seaborn-0.11.1-py3-none-any.whl (285 kB)\n",
      "Requirement already satisfied: six==1.16.0 in c:\\users\\smhrd\\anaconda3\\envs\\yolo_flask\\lib\\site-packages (from -r requirements.txt (line 36)) (1.16.0)\n",
      "Collecting tensorboard==2.6.0\n",
      "  Downloading tensorboard-2.6.0-py3-none-any.whl (5.6 MB)\n",
      "Collecting tensorboard-data-server==0.6.1\n",
      "  Using cached tensorboard_data_server-0.6.1-py3-none-any.whl (2.4 kB)\n",
      "Collecting tensorboard-plugin-wit==1.8.0\n",
      "  Downloading tensorboard_plugin_wit-1.8.0-py3-none-any.whl (781 kB)\n",
      "Collecting thop==0.0.31.post2005241907\n",
      "  Downloading thop-0.0.31.post2005241907-py3-none-any.whl (8.7 kB)\n",
      "Collecting torch==1.9.0\n",
      "  Downloading https://download.pytorch.org/whl/cu111/torch-1.9.0%2Bcu111-cp37-cp37m-win_amd64.whl (3128.1 MB)\n",
      "Collecting torchvision==0.10.0\n",
      "  Downloading https://download.pytorch.org/whl/cu111/torchvision-0.10.0%2Bcu111-cp37-cp37m-win_amd64.whl (2.5 MB)\n",
      "Collecting tqdm==4.62.0\n",
      "  Downloading tqdm-4.62.0-py2.py3-none-any.whl (76 kB)\n",
      "Collecting typing-extensions==3.10.0.0\n",
      "  Downloading typing_extensions-3.10.0.0-py3-none-any.whl (26 kB)\n",
      "Collecting urllib3==1.26.6\n",
      "  Downloading urllib3-1.26.6-py2.py3-none-any.whl (138 kB)\n",
      "Collecting Werkzeug==2.0.1\n",
      "  Downloading Werkzeug-2.0.1-py3-none-any.whl (288 kB)\n",
      "Requirement already satisfied: importlib-metadata in c:\\users\\smhrd\\anaconda3\\envs\\yolo_flask\\lib\\site-packages (from click==8.0.1->-r requirements.txt (line 5)) (4.11.3)\n",
      "Requirement already satisfied: colorama in c:\\users\\smhrd\\anaconda3\\envs\\yolo_flask\\lib\\site-packages (from click==8.0.1->-r requirements.txt (line 5)) (0.4.4)\n",
      "Requirement already satisfied: setuptools>=40.3.0 in c:\\users\\smhrd\\anaconda3\\envs\\yolo_flask\\lib\\site-packages (from google-auth==1.34.0->-r requirements.txt (line 8)) (58.0.4)\n",
      "Requirement already satisfied: wheel>=0.26 in c:\\users\\smhrd\\anaconda3\\envs\\yolo_flask\\lib\\site-packages (from tensorboard==2.6.0->-r requirements.txt (line 37)) (0.37.1)\n",
      "Requirement already satisfied: zipp>=0.5 in c:\\users\\smhrd\\anaconda3\\envs\\yolo_flask\\lib\\site-packages (from importlib-metadata->click==8.0.1->-r requirements.txt (line 5)) (3.7.0)\n",
      "Installing collected packages: urllib3, pyasn1, idna, charset-normalizer, certifi, typing-extensions, rsa, requests, pyasn1-modules, oauthlib, cachetools, requests-oauthlib, pytz, pyparsing, Pillow, numpy, kiwisolver, google-auth, cycler, Werkzeug, torch, tensorboard-plugin-wit, tensorboard-data-server, scipy, protobuf, pandas, matplotlib, Markdown, Jinja2, itsdangerous, grpcio, google-auth-oauthlib, click, absl-py, tqdm, torchvision, thop, tensorboard, seaborn, PyYAML, opencv-python, gunicorn, Flask\n",
      "  Attempting uninstall: certifi\n",
      "    Found existing installation: certifi 2021.10.8\n",
      "    Uninstalling certifi-2021.10.8:\n",
      "      Successfully uninstalled certifi-2021.10.8\n",
      "  Attempting uninstall: typing-extensions\n",
      "    Found existing installation: typing-extensions 4.1.1\n",
      "    Uninstalling typing-extensions-4.1.1:\n",
      "      Successfully uninstalled typing-extensions-4.1.1\n",
      "  Attempting uninstall: pyparsing\n",
      "    Found existing installation: pyparsing 3.0.4\n",
      "    Uninstalling pyparsing-3.0.4:\n",
      "      Successfully uninstalled pyparsing-3.0.4\n",
      "  Attempting uninstall: Jinja2\n",
      "    Found existing installation: Jinja2 3.0.3\n",
      "    Uninstalling Jinja2-3.0.3:\n",
      "      Successfully uninstalled Jinja2-3.0.3\n",
      "Successfully installed Flask-2.0.1 Jinja2-3.0.1 Markdown-3.3.4 Pillow-8.3.1 PyYAML-5.4.1 Werkzeug-2.0.1 absl-py-0.13.0 cachetools-4.2.2 certifi-2021.5.30 charset-normalizer-2.0.4 click-8.0.1 cycler-0.10.0 google-auth-1.34.0 google-auth-oauthlib-0.4.5 grpcio-1.39.0 gunicorn-20.1.0 idna-3.2 itsdangerous-2.0.1 kiwisolver-1.3.1 matplotlib-3.4.2 numpy-1.21.1 oauthlib-3.1.1 opencv-python-4.5.3.56 pandas-1.3.1 protobuf-3.17.3 pyasn1-0.4.8 pyasn1-modules-0.2.8 pyparsing-2.4.7 pytz-2021.1 requests-2.26.0 requests-oauthlib-1.3.0 rsa-4.7.2 scipy-1.7.1 seaborn-0.11.1 tensorboard-2.6.0 tensorboard-data-server-0.6.1 tensorboard-plugin-wit-1.8.0 thop-0.0.31.post2005241907 torch-1.9.0+cu111 torchvision-0.10.0+cu111 tqdm-4.62.0 typing-extensions-3.10.0.0 urllib3-1.26.6\n"
     ]
    }
   ],
   "source": [
    "!pip install -r requirements.txt"
   ]
  },
  {
   "cell_type": "markdown",
   "id": "c1bb1810",
   "metadata": {},
   "source": [
    "# app.py "
   ]
  },
  {
   "cell_type": "code",
   "execution_count": null,
   "id": "622c111f",
   "metadata": {},
   "outputs": [],
   "source": [
    "from re import DEBUG, sub\n",
    "from flask import Flask, render_template, request, redirect, send_file, url_for\n",
    "from werkzeug.utils import secure_filename, send_from_directory\n",
    "import os\n",
    "import subprocess\n",
    "\n",
    "app = Flask(__name__)\n",
    "#이미지 업로드 되는 파일 생성하는 코드\n",
    "uploads_dir = os.path.join(app.instance_path, 'uploads')\n",
    "\n",
    "os.makedirs(uploads_dir, exist_ok=True)\n",
    "\n",
    "@app.route(\"/\")\n",
    "def hello_world():\n",
    "    return render_template('index.html')\n",
    "\n",
    "#send 버튼을 누를시 static 에있는 index.js를 통해 post로 통신\n",
    "@app.route(\"/detect\", methods=['POST'])\n",
    "def detect():\n",
    "    if not request.method == \"POST\":\n",
    "        return \n",
    "    video = request.files['video']\n",
    "    video.save(os.path.join(uploads_dir, secure_filename(video.filename)))\n",
    "    print(video)\n",
    "    subprocess.run(\"ls\")\n",
    "    subprocess.run(['python3', 'detect.py', '--source', os.path.join(uploads_dir, secure_filename(video.filename))])\n",
    "\n",
    "    # return os.path.join(uploads_dir, secure_filename(video.filename))\n",
    "    obj = secure_filename(video.filename)\n",
    "    return obj\n",
    "\n",
    "@app.route('/return-files', methods=['GET'])\n",
    "def return_file():\n",
    "    obj = request.args.get('obj')\n",
    "    loc = os.path.join(\"runs/detect\", obj)\n",
    "    print(loc)\n",
    "    try:\n",
    "        return send_file(os.path.join(\"runs/detect\", obj), attachment_filename=obj)\n",
    "        # return send_from_directory(loc, obj)\n",
    "    except Exception as e:\n",
    "        return str(e)\n",
    "\n",
    "# @app.route('/display/<filename>')\n",
    "# def display_video(filename):\n",
    "# \t#print('display_video filename: ' + filename)\n",
    "# \treturn redirect(url_for('static/video_1.mp4', code=200))"
   ]
  },
  {
   "cell_type": "code",
   "execution_count": null,
   "id": "002a953b",
   "metadata": {},
   "outputs": [],
   "source": [
    "!flask run"
   ]
  },
  {
   "cell_type": "markdown",
   "id": "cc86d6ef",
   "metadata": {},
   "source": [
    "# 보관용\n",
    "- 폴더를 접근하여 내부의 모든 파일 확인 후 모델(예비) 구동 확인"
   ]
  },
  {
   "cell_type": "code",
   "execution_count": 20,
   "id": "5275905e",
   "metadata": {},
   "outputs": [],
   "source": [
    "import os"
   ]
  },
  {
   "cell_type": "code",
   "execution_count": 22,
   "id": "d7ab88cc",
   "metadata": {},
   "outputs": [
    {
     "name": "stdout",
     "output_type": "stream",
     "text": [
      "file_list :  ['12.jpg', '18.jpg', '6.jpg']\n"
     ]
    }
   ],
   "source": [
    "path = \"C:/Users/smhrd/Desktop/1차 프로젝트 관련/받아라/view\"\n",
    "file_list = os.listdir(path)\n",
    "\n",
    "print(\"file_list : \", file_list)"
   ]
  },
  {
   "cell_type": "code",
   "execution_count": 26,
   "id": "5c2203a3",
   "metadata": {},
   "outputs": [
    {
     "name": "stderr",
     "output_type": "stream",
     "text": [
      "Using cache found in C:\\Users\\smhrd/.cache\\torch\\hub\\ultralytics_yolov5_master\n",
      "YOLOv5  2022-4-9 torch 1.9.0+cu111 CUDA:0 (NVIDIA GeForce RTX 2070, 8192MiB)\n",
      "\n",
      "Fusing layers... \n",
      "Model summary: 224 layers, 7266973 parameters, 0 gradients\n",
      "Adding AutoShape... \n",
      "Saved 1 image to \u001b[1mC:\\Users\\smhrd\\Desktop\\1차 프로젝트 관련\\받아라\\result\u001b[0m\n",
      "Saved 1 image to \u001b[1mC:\\Users\\smhrd\\Desktop\\1차 프로젝트 관련\\받아라\\result\u001b[0m\n",
      "Saved 1 image to \u001b[1mC:\\Users\\smhrd\\Desktop\\1차 프로젝트 관련\\받아라\\result\u001b[0m\n"
     ]
    }
   ],
   "source": [
    "import torch\n",
    "# Model\n",
    "model = torch.hub.load('ultralytics/yolov5', 'yolov5s')  # or yolov5m, yolov5l, yolov5x, custom\n",
    "\n",
    "# Images\n",
    "for i in range(len(file_list)) :\n",
    "    img = path + \"/\" + file_list[i]\n",
    "    results = model(img)\n",
    "    results.show()\n",
    "    results.save(save_dir = 'C:/Users/smhrd/Desktop/1차 프로젝트 관련/받아라/result')"
   ]
  },
  {
   "cell_type": "markdown",
   "id": "1646269a",
   "metadata": {},
   "source": [
    "# 예제 다운로드 "
   ]
  },
  {
   "cell_type": "code",
   "execution_count": 17,
   "id": "87f9db8e",
   "metadata": {},
   "outputs": [
    {
     "name": "stderr",
     "output_type": "stream",
     "text": [
      "Using cache found in C:\\Users\\smhrd/.cache\\torch\\hub\\ultralytics_yolov5_master\n",
      "YOLOv5  2022-4-9 torch 1.9.0+cu111 CUDA:0 (NVIDIA GeForce RTX 2070, 8192MiB)\n",
      "\n",
      "Fusing layers... \n",
      "Model summary: 224 layers, 7266973 parameters, 0 gradients\n",
      "Adding AutoShape... \n"
     ]
    }
   ],
   "source": [
    "import torch\n",
    "# Model\n",
    "model = torch.hub.load('ultralytics/yolov5', 'yolov5s')  # or yolov5m, yolov5l, yolov5x, custom\n",
    "\n",
    "# Images\n",
    "img = 'C:/Users/smhrd/Desktop/1차 프로젝트 관련/받아라/view/6.jpg'  # or file, Path, PIL, OpenCV, numpy, list"
   ]
  },
  {
   "cell_type": "code",
   "execution_count": 13,
   "id": "a77453fb",
   "metadata": {},
   "outputs": [
    {
     "data": {
      "text/plain": [
       "str"
      ]
     },
     "execution_count": 13,
     "metadata": {},
     "output_type": "execute_result"
    }
   ],
   "source": [
    "type(img)"
   ]
  },
  {
   "cell_type": "code",
   "execution_count": 18,
   "id": "b2254615",
   "metadata": {},
   "outputs": [],
   "source": [
    "# Inference\n",
    "results = model(img)"
   ]
  },
  {
   "cell_type": "code",
   "execution_count": 19,
   "id": "3ef7f4e1",
   "metadata": {},
   "outputs": [],
   "source": [
    "results.show()"
   ]
  },
  {
   "cell_type": "markdown",
   "id": "3968c1d5",
   "metadata": {},
   "source": [
    "# db에서 가져오기 "
   ]
  },
  {
   "cell_type": "code",
   "execution_count": 8,
   "id": "a1b1c2bb",
   "metadata": {},
   "outputs": [
    {
     "name": "stdout",
     "output_type": "stream",
     "text": [
      "Collecting pymysql\n",
      "  Using cached PyMySQL-1.0.2-py3-none-any.whl (43 kB)\n",
      "Installing collected packages: pymysql\n",
      "Successfully installed pymysql-1.0.2\n",
      "Note: you may need to restart the kernel to use updated packages.\n"
     ]
    }
   ],
   "source": [
    "pip install pymysql"
   ]
  },
  {
   "cell_type": "code",
   "execution_count": 9,
   "id": "174b907b",
   "metadata": {},
   "outputs": [],
   "source": [
    "import pymysql\n",
    "from PIL import Image\n",
    "import base64\n",
    "from io import BytesIO\n",
    "import time"
   ]
  },
  {
   "cell_type": "code",
   "execution_count": 10,
   "id": "e05eb24b",
   "metadata": {
    "collapsed": true
   },
   "outputs": [
    {
     "data": {
      "text/plain": [
       "((20,\n",
       "  b'data:image/jpeg;base64,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'),)"
      ]
     },
     "execution_count": 10,
     "metadata": {},
     "output_type": "execute_result"
    }
   ],
   "source": [
    "db = pymysql.connect(host = 'localhost', port = 3306 , user='root' ,\n",
    "                     passwd='12345' , db='mysql' , charset ='utf8')\n",
    "cursor = db.cursor()\n",
    "sql = \"\"\"SELECT * FROM images where image_nm = %s\"\"\"\n",
    "cursor.execute(sql, (\"20\"))\n",
    "result = cursor.fetchall()\n",
    "db.close()\n",
    "\n",
    "result"
   ]
  },
  {
   "cell_type": "code",
   "execution_count": 19,
   "id": "deb98681",
   "metadata": {},
   "outputs": [
    {
     "data": {
      "text/plain": [
       "str"
      ]
     },
     "execution_count": 19,
     "metadata": {},
     "output_type": "execute_result"
    }
   ],
   "source": [
    "type(result)"
   ]
  },
  {
   "cell_type": "code",
   "execution_count": 17,
   "id": "eebc5258",
   "metadata": {},
   "outputs": [],
   "source": [
    "byte = result[0][1]"
   ]
  },
  {
   "cell_type": "code",
   "execution_count": 18,
   "id": "1a8e9488",
   "metadata": {},
   "outputs": [],
   "source": [
    "result = byte.decode('utf-8')"
   ]
  },
  {
   "cell_type": "code",
   "execution_count": null,
   "id": "407dca8a",
   "metadata": {},
   "outputs": [],
   "source": []
  },
  {
   "cell_type": "code",
   "execution_count": null,
   "id": "0b29ebb2",
   "metadata": {},
   "outputs": [],
   "source": [
    "0. spring에서 플라스크 작동\n",
    "0 -1 이미지 업로드 페이지까지\n",
    "1.sql로 db에 저장(예측전 사진)\n",
    "2. 예측\n",
    "3. db에 저장(예측후 사진)\n",
    "\n",
    "--> jpg로 바로 예측"
   ]
  },
  {
   "cell_type": "markdown",
   "id": "6c9deb88",
   "metadata": {},
   "source": [
    "# flask에서 모델"
   ]
  },
  {
   "cell_type": "code",
   "execution_count": null,
   "id": "61fd53b0",
   "metadata": {},
   "outputs": [],
   "source": [
    "import os\n",
    "import torch"
   ]
  },
  {
   "cell_type": "code",
   "execution_count": 31,
   "id": "ce25e9cb",
   "metadata": {},
   "outputs": [
    {
     "name": "stderr",
     "output_type": "stream",
     "text": [
      "Using cache found in C:\\Users\\smhrd/.cache\\torch\\hub\\ultralytics_yolov5_master\n",
      "YOLOv5  2022-4-9 torch 1.9.0+cu111 CUDA:0 (NVIDIA GeForce RTX 2070, 8192MiB)\n",
      "\n",
      "Fusing layers... \n",
      "Model summary: 224 layers, 7266973 parameters, 0 gradients\n",
      "Adding AutoShape... \n"
     ]
    }
   ],
   "source": [
    "model = torch.hub.load('ultralytics/yolov5', 'yolov5s')  # or yolov5m, yolov5l, yolov5x, custom\n",
    "\n",
    "def selectImg() : \n",
    "    path = \"C:/Users/smhrd/Desktop/1차 프로젝트 관련/받아라/view\"\n",
    "    # path = \"C:/Users/smhrd/Desktop/이미지\"\n",
    "    file_list = os.listdir(path)\n",
    "\n",
    "    print(\"file_list : \", file_list)\n",
    "\n",
    "    # Images\n",
    "    for i in range(len(file_list)) :\n",
    "        img = path + \"/\" + file_list[i]\n",
    "        results = model(img)\n",
    "        results.show()\n",
    "        results.save(save_dir = 'C:/Users/smhrd/Desktop/1차 프로젝트 관련/받아라/result')\n",
    "    return \"a\""
   ]
  },
  {
   "cell_type": "code",
   "execution_count": 32,
   "id": "cac90589",
   "metadata": {},
   "outputs": [
    {
     "name": "stdout",
     "output_type": "stream",
     "text": [
      " * Serving Flask app '__main__' (lazy loading)\n",
      " * Environment: production\n",
      "\u001b[31m   WARNING: This is a development server. Do not use it in a production deployment.\u001b[0m\n",
      "\u001b[2m   Use a production WSGI server instead.\u001b[0m\n",
      " * Debug mode: off\n"
     ]
    },
    {
     "name": "stderr",
     "output_type": "stream",
     "text": [
      " * Running on http://127.0.0.1:9000/ (Press CTRL+C to quit)\n"
     ]
    },
    {
     "name": "stdout",
     "output_type": "stream",
     "text": [
      "file_list :  ['0.jpg', '1.jpg', '10.jpg', '11.jpg', '13.jpg', '16.jpg', '17.jpg', '2.jpg', '20.jpg', '21.jpg', '23.jpg', '24.jpg', '3.jpg', '5.jpg', '7.jpg', '8.jpg']\n"
     ]
    },
    {
     "name": "stderr",
     "output_type": "stream",
     "text": [
      "Saved 1 image to \u001b[1mC:\\Users\\smhrd\\Desktop\\1차 프로젝트 관련\\받아라\\result\u001b[0m\n",
      "Saved 1 image to \u001b[1mC:\\Users\\smhrd\\Desktop\\1차 프로젝트 관련\\받아라\\result\u001b[0m\n",
      "Saved 1 image to \u001b[1mC:\\Users\\smhrd\\Desktop\\1차 프로젝트 관련\\받아라\\result\u001b[0m\n",
      "Saved 1 image to \u001b[1mC:\\Users\\smhrd\\Desktop\\1차 프로젝트 관련\\받아라\\result\u001b[0m\n",
      "Saved 1 image to \u001b[1mC:\\Users\\smhrd\\Desktop\\1차 프로젝트 관련\\받아라\\result\u001b[0m\n",
      "Saved 1 image to \u001b[1mC:\\Users\\smhrd\\Desktop\\1차 프로젝트 관련\\받아라\\result\u001b[0m\n",
      "Saved 1 image to \u001b[1mC:\\Users\\smhrd\\Desktop\\1차 프로젝트 관련\\받아라\\result\u001b[0m\n",
      "Saved 1 image to \u001b[1mC:\\Users\\smhrd\\Desktop\\1차 프로젝트 관련\\받아라\\result\u001b[0m\n",
      "Saved 1 image to \u001b[1mC:\\Users\\smhrd\\Desktop\\1차 프로젝트 관련\\받아라\\result\u001b[0m\n",
      "Saved 1 image to \u001b[1mC:\\Users\\smhrd\\Desktop\\1차 프로젝트 관련\\받아라\\result\u001b[0m\n",
      "Saved 1 image to \u001b[1mC:\\Users\\smhrd\\Desktop\\1차 프로젝트 관련\\받아라\\result\u001b[0m\n",
      "Saved 1 image to \u001b[1mC:\\Users\\smhrd\\Desktop\\1차 프로젝트 관련\\받아라\\result\u001b[0m\n",
      "Saved 1 image to \u001b[1mC:\\Users\\smhrd\\Desktop\\1차 프로젝트 관련\\받아라\\result\u001b[0m\n",
      "Saved 1 image to \u001b[1mC:\\Users\\smhrd\\Desktop\\1차 프로젝트 관련\\받아라\\result\u001b[0m\n",
      "Saved 1 image to \u001b[1mC:\\Users\\smhrd\\Desktop\\1차 프로젝트 관련\\받아라\\result\u001b[0m\n",
      "Saved 1 image to \u001b[1mC:\\Users\\smhrd\\Desktop\\1차 프로젝트 관련\\받아라\\result\u001b[0m\n",
      "127.0.0.1 - - [09/Apr/2022 17:15:27] \"GET / HTTP/1.1\" 200 -\n"
     ]
    }
   ],
   "source": [
    "from flask import Flask\n",
    "from flask import request, redirect\n",
    "\n",
    "app = Flask(__name__)\n",
    "\n",
    "@app.route('/')\n",
    "def first() :\n",
    "    string = selectImg()\n",
    "    return string\n",
    "\n",
    "if __name__ == '__main__':\n",
    "    app.run(host='127.0.0.1', port='9000')"
   ]
  },
  {
   "cell_type": "markdown",
   "id": "50d51c57",
   "metadata": {},
   "source": [
    "# 업로드하는 index 페이지 구동시키기 ( 생략 )"
   ]
  },
  {
   "cell_type": "code",
   "execution_count": null,
   "id": "78caf0dc",
   "metadata": {},
   "outputs": [],
   "source": [
    "#플라스크 서버 작동!\n",
    "flask run\n",
    "python3 app.py --port 5000 #->>>>index페이지 켜짐"
   ]
  },
  {
   "cell_type": "code",
   "execution_count": null,
   "id": "81388a1f",
   "metadata": {},
   "outputs": [],
   "source": []
  },
  {
   "cell_type": "code",
   "execution_count": null,
   "id": "67d33db8",
   "metadata": {},
   "outputs": [],
   "source": []
  },
  {
   "cell_type": "code",
   "execution_count": null,
   "id": "af14e326",
   "metadata": {},
   "outputs": [],
   "source": []
  },
  {
   "cell_type": "code",
   "execution_count": null,
   "id": "6da846c9",
   "metadata": {},
   "outputs": [],
   "source": []
  }
 ],
 "metadata": {
  "kernelspec": {
   "display_name": "Python 3 (ipykernel)",
   "language": "python",
   "name": "python3"
  },
  "language_info": {
   "codemirror_mode": {
    "name": "ipython",
    "version": 3
   },
   "file_extension": ".py",
   "mimetype": "text/x-python",
   "name": "python",
   "nbconvert_exporter": "python",
   "pygments_lexer": "ipython3",
   "version": "3.7.13"
  },
  "toc": {
   "base_numbering": 1,
   "nav_menu": {},
   "number_sections": true,
   "sideBar": true,
   "skip_h1_title": false,
   "title_cell": "Table of Contents",
   "title_sidebar": "Contents",
   "toc_cell": false,
   "toc_position": {
    "height": "calc(100% - 180px)",
    "left": "10px",
    "top": "150px",
    "width": "384px"
   },
   "toc_section_display": true,
   "toc_window_display": false
  }
 },
 "nbformat": 4,
 "nbformat_minor": 5
}
